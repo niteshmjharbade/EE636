{
 "cells": [
  {
   "cell_type": "markdown",
   "metadata": {},
   "source": [
    "FOR LOWER TRAINGULAR MATRIX"
   ]
  },
  {
   "cell_type": "code",
   "execution_count": 2,
   "metadata": {},
   "outputs": [
    {
     "data": {
      "text/plain": [
       "trtrsrow_Lower (generic function with 1 method)"
      ]
     },
     "metadata": {},
     "output_type": "display_data"
    }
   ],
   "source": [
    "function trtrsrow_Lower(L, b)\n",
    "    n= length(b)\n",
    "    x= Vector{Float64}(undef, n)\n",
    "    for i = 1:n\n",
    "        z = 0.0\n",
    "        for j = 1:i-1\n",
    "            z += L[i,j]*x[j]\n",
    "        end\n",
    "        x[i] = (b[i] - z)/L[i,i]\n",
    "    end\n",
    "    return x\n",
    "end\n",
    "    \n",
    "    "
   ]
  },
  {
   "cell_type": "code",
   "execution_count": 3,
   "metadata": {},
   "outputs": [
    {
     "data": {
      "text/plain": [
       "trtrs_Lower (generic function with 1 method)"
      ]
     },
     "metadata": {},
     "output_type": "display_data"
    }
   ],
   "source": [
    "function trtrs_Lower(L, b)\n",
    "    n = length(b)\n",
    "    x = copy(b)\n",
    "    for j = 1:n\n",
    "        x[j] = x[j] / L[j,j]\n",
    "        for i = j+1:n\n",
    "            x[i] -= L[i,j]*x[j]\n",
    "        end\n",
    "    end\n",
    "    return x\n",
    "end\n"
   ]
  },
  {
   "cell_type": "code",
   "execution_count": 15,
   "metadata": {},
   "outputs": [
    {
     "name": "stdout",
     "output_type": "stream",
     "text": [
      "  0.069207 seconds (2 allocations: 31.297 KiB)\n",
      "  0.009738 seconds (2 allocations: 31.297 KiB)\n"
     ]
    }
   ],
   "source": [
    "using LinearAlgebra\n",
    "n = 4000\n",
    "L = randn(n, n);\n",
    "L = tril(L);\n",
    "b = randn(n);\n",
    "\n",
    "@time x = trtrsrow_Lower(L, b);\n",
    "@time x = trtrs_Lower(L, b);"
   ]
  },
  {
   "cell_type": "markdown",
   "metadata": {},
   "source": [
    "FOR UPPER TRIANGULAR MATRIX"
   ]
  },
  {
   "cell_type": "code",
   "execution_count": 8,
   "metadata": {},
   "outputs": [
    {
     "data": {
      "text/plain": [
       "trtrsrow_upper (generic function with 1 method)"
      ]
     },
     "metadata": {},
     "output_type": "display_data"
    }
   ],
   "source": [
    "function trtrsrow_upper(U, b)\n",
    "    n = length(b)\n",
    "    x = Vector{Float64}(undef, n)\n",
    "    for i = n:-1:1\n",
    "        z = 0.0\n",
    "        for j = i+1:n\n",
    "            z += U[i,j] * x[j]\n",
    "        end\n",
    "        x[i] = (b[i] - z) / U[i,i]\n",
    "    end\n",
    "    return x\n",
    "end\n"
   ]
  },
  {
   "cell_type": "code",
   "execution_count": 9,
   "metadata": {},
   "outputs": [
    {
     "data": {
      "text/plain": [
       "trtrs_upper (generic function with 1 method)"
      ]
     },
     "metadata": {},
     "output_type": "display_data"
    }
   ],
   "source": [
    "function trtrs_upper(U, b)\n",
    "    n = length(b)\n",
    "    x = copy(b)\n",
    "    for j = n:-1:1\n",
    "        x[j] = x[j] / U[j,j]\n",
    "        for i = 1:j-1\n",
    "            x[i] -= U[i,j] * x[j]\n",
    "        end\n",
    "    end\n",
    "    return x\n",
    "end\n"
   ]
  },
  {
   "cell_type": "code",
   "execution_count": 16,
   "metadata": {},
   "outputs": [
    {
     "name": "stdout",
     "output_type": "stream",
     "text": [
      "  0.065615 seconds (2 allocations: 31.297 KiB)\n",
      "  0.008943 seconds (2 allocations: 31.297 KiB)\n"
     ]
    }
   ],
   "source": [
    "using LinearAlgebra\n",
    "n = 4000\n",
    "U = randn(n, n);\n",
    "U = tril(L);\n",
    "b = randn(n);\n",
    "\n",
    "@time x = trtrsrow_upper(U, b);\n",
    "@time x = trtrs_upper(U, b);"
   ]
  },
  {
   "cell_type": "markdown",
   "metadata": {},
   "source": [
    "Codes for solving a linear system having upper and lower triangular using row access and column access algorithms are shown in the codes.\n",
    "\n",
    "And we got the result that the column access algorithm is faster.\n",
    "\n"
   ]
  }
 ],
 "metadata": {
  "kernelspec": {
   "display_name": "Julia 1.10.0",
   "language": "julia",
   "name": "julia-1.10"
  },
  "language_info": {
   "file_extension": ".jl",
   "mimetype": "application/julia",
   "name": "julia",
   "version": "1.10.0"
  }
 },
 "nbformat": 4,
 "nbformat_minor": 2
}
