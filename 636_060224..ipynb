{
 "cells": [
  {
   "cell_type": "code",
   "execution_count": null,
   "metadata": {},
   "outputs": [],
   "source": []
  },
  {
   "cell_type": "markdown",
   "metadata": {},
   "source": []
  },
  {
   "cell_type": "code",
   "execution_count": 1,
   "metadata": {},
   "outputs": [],
   "source": [
    "using LinearAlgebra\n",
    "using Random\n",
    "rng = MersenneTwister()\n",
    "Random.seed!(rng, 2018)\n",
    ";"
   ]
  },
  {
   "cell_type": "code",
   "execution_count": 2,
   "metadata": {},
   "outputs": [],
   "source": [
    "# Size of the matrix\n",
    "n = 4;\n",
    "\n",
    "# Random initialization of matrix A\n",
    "G = zeros(Float64,n,n)\n",
    "for i=1:n\n",
    "    G[i,i] = rand(rng, 1:2)\n",
    "    G[i+1:n,i] = rand(rng, -2:2, n-i)\n",
    "end\n",
    "A = G * transpose(G)\n",
    "A0 = copy(A);\n"
   ]
  },
  {
   "cell_type": "code",
   "execution_count": 7,
   "metadata": {},
   "outputs": [
    {
     "data": {
      "text/plain": [
       "4×4 Matrix{Float64}:\n",
       "  1.0  0.0  0.0  0.0\n",
       " -1.0  2.0  0.0  0.0\n",
       "  1.0  2.0  1.0  0.0\n",
       "  1.0  2.0  2.0  2.0"
      ]
     },
     "metadata": {},
     "output_type": "display_data"
    }
   ],
   "source": [
    "G"
   ]
  },
  {
   "cell_type": "code",
   "execution_count": 8,
   "metadata": {},
   "outputs": [
    {
     "data": {
      "text/plain": [
       "4×4 Matrix{Float64}:\n",
       "  1.0  -1.0  1.0   1.0\n",
       " -1.0   5.0  3.0   3.0\n",
       "  1.0   3.0  6.0   7.0\n",
       "  1.0   3.0  7.0  13.0"
      ]
     },
     "metadata": {},
     "output_type": "display_data"
    }
   ],
   "source": [
    "A"
   ]
  },
  {
   "cell_type": "code",
   "execution_count": 5,
   "metadata": {},
   "outputs": [
    {
     "data": {
      "text/plain": [
       "4-element Vector{Float64}:\n",
       " 0.7750643105785386\n",
       " 0.14209853614470824\n",
       " 0.9846926453465281\n",
       " 0.6384303868587522"
      ]
     },
     "metadata": {},
     "output_type": "display_data"
    }
   ],
   "source": [
    "b = rand(rng,4)"
   ]
  },
  {
   "cell_type": "code",
   "execution_count": 1,
   "metadata": {},
   "outputs": [],
   "source": []
  },
  {
   "cell_type": "code",
   "execution_count": 6,
   "metadata": {},
   "outputs": [
    {
     "data": {
      "text/plain": [
       "potrs (generic function with 1 method)"
      ]
     },
     "metadata": {},
     "output_type": "display_data"
    }
   ],
   "source": [
    "function potrf!(A)\n",
    "    n = size(A,1)\n",
    "    for j=1:n\n",
    "        for k=1:j-1, i=j:n\n",
    "            A[i,j] -= A[i,k] * A[j,k]\n",
    "        end\n",
    "        ajj = sqrt(A[j,j])\n",
    "        for i=j:n\n",
    "            A[i,j] /= ajj\n",
    "        end\n",
    "    end\n",
    "end\n",
    "\n",
    "function potrs(A,b)\n",
    "    n = length(b)\n",
    "    x = copy(b)\n",
    "    # Solve using matrix G\n",
    "    for j = 1:n\n",
    "        x[j] /= A[j,j]\n",
    "        for i = j+1:n\n",
    "            x[i] -= A[i,j] * x[j]\n",
    "        end\n",
    "    end\n",
    "    # Solve using matrix G^T\n",
    "    for i = n:-1:1\n",
    "        for j = i+1:n\n",
    "            x[i] -= A[j,i] * x[j]\n",
    "        end\n",
    "        x[i] /= A[i,i]\n",
    "    end\n",
    "    return x\n",
    "end\n"
   ]
  },
  {
   "cell_type": "code",
   "execution_count": 7,
   "metadata": {},
   "outputs": [
    {
     "data": {
      "text/plain": [
       "4-element Vector{Float64}:\n",
       "  0.8264349059476096\n",
       "  0.04219304443148277\n",
       " -0.00746462768545729\n",
       " -0.0017129232521308645"
      ]
     },
     "metadata": {},
     "output_type": "display_data"
    }
   ],
   "source": [
    "potrs(A,b)"
   ]
  },
  {
   "cell_type": "code",
   "execution_count": null,
   "metadata": {},
   "outputs": [],
   "source": []
  }
 ],
 "metadata": {
  "kernelspec": {
   "display_name": "Julia 1.6.7",
   "language": "julia",
   "name": "julia-1.6"
  },
  "language_info": {
   "file_extension": ".jl",
   "mimetype": "application/julia",
   "name": "julia",
   "version": "1.6.7"
  }
 },
 "nbformat": 4,
 "nbformat_minor": 2
}
